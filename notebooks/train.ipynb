{
 "cells": [
  {
   "cell_type": "markdown",
   "metadata": {},
   "source": [
    "# Train Revenue Prediction Model\n",
    "\n",
    "This model predic the revenue of the next quarter of all B3 listed companies.\n",
    "\n",
    "## Import Packages"
   ]
  },
  {
   "cell_type": "code",
   "execution_count": 1,
   "metadata": {},
   "outputs": [],
   "source": [
    "import os\n",
    "import numpy as np\n",
    "import torch\n",
    "import torch.nn as nn\n",
    "import torch.optim as optim\n",
    "from torch.utils.data import DataLoader, TensorDataset"
   ]
  },
  {
   "cell_type": "markdown",
   "metadata": {},
   "source": [
    "## Constants & Settings"
   ]
  },
  {
   "cell_type": "code",
   "execution_count": 2,
   "metadata": {},
   "outputs": [],
   "source": [
    "DATA_SOURCE_FOLDER = \"/workspaces/valuation/data/staging/numpy\"\n",
    "\n",
    "# device configuration\n",
    "DEVICE = torch.device('cuda' if torch.cuda.is_available() else 'cpu')"
   ]
  },
  {
   "cell_type": "markdown",
   "metadata": {},
   "source": [
    "## Read Preprocessed Data"
   ]
  },
  {
   "cell_type": "code",
   "execution_count": 3,
   "metadata": {},
   "outputs": [],
   "source": [
    "X_train = np.load(os.path.join(DATA_SOURCE_FOLDER, 'X_train.npy'))\n",
    "y_train = np.load(os.path.join(DATA_SOURCE_FOLDER, 'y_train.npy'))\n",
    "X_test = np.load(os.path.join(DATA_SOURCE_FOLDER, 'X_test.npy'))\n",
    "y_test = np.load(os.path.join(DATA_SOURCE_FOLDER, 'y_test.npy'))"
   ]
  },
  {
   "cell_type": "markdown",
   "metadata": {},
   "source": [
    "## Hiperparameter"
   ]
  },
  {
   "cell_type": "code",
   "execution_count": 4,
   "metadata": {},
   "outputs": [],
   "source": [
    "INPUT_SIZE = X_train.shape[2]\n",
    "OUTPUT_SIZE = 1\n",
    "HIDDEN_SIZE = 50\n",
    "NUM_LAYERS = 2\n",
    "LEARNING_RATE = 0.001\n",
    "NUM_EPOCHS = 20\n",
    "BATCH_SIZE = 10\n",
    "SHUFFLE_TRAIN_DATA = False\n",
    "SHUFFLE_TEST_DATA = False"
   ]
  },
  {
   "cell_type": "markdown",
   "metadata": {},
   "source": []
  },
  {
   "cell_type": "markdown",
   "metadata": {},
   "source": [
    "## Define the LSTM model"
   ]
  },
  {
   "cell_type": "code",
   "execution_count": 5,
   "metadata": {},
   "outputs": [],
   "source": [
    "class LSTMModel(nn.Module):\n",
    "    def __init__(self, input_size, hidden_size, num_layers, output_size):\n",
    "        super(LSTMModel, self).__init__()\n",
    "        self.lstm = nn.LSTM(input_size, hidden_size, num_layers, batch_first=True)\n",
    "        self.fc = nn.Linear(hidden_size, output_size)\n",
    "        self.num_layers = num_layers\n",
    "        self.hidden_size = hidden_size\n",
    "    \n",
    "    def forward(self, x):\n",
    "        h_0 = torch.zeros(self.num_layers, x.size(0), self.hidden_size).to(DEVICE)\n",
    "        c_0 = torch.zeros(self.num_layers, x.size(0), self.hidden_size).to(DEVICE)\n",
    "        \n",
    "        out, _ = self.lstm(x, (h_0, c_0))\n",
    "        out = self.fc(out[:, -1, :])\n",
    "        return out\n"
   ]
  },
  {
   "cell_type": "markdown",
   "metadata": {},
   "source": [
    "## Create dataset and dataloaders"
   ]
  },
  {
   "cell_type": "code",
   "execution_count": 6,
   "metadata": {},
   "outputs": [],
   "source": [
    "X_train_torch = torch.from_numpy(X_train)\n",
    "y_train_torch = torch.from_numpy(y_train)\n",
    "X_test_torch = torch.from_numpy(X_test)\n",
    "y_test_torch = torch.from_numpy(y_test)\n",
    "\n",
    "train_dataset = TensorDataset(X_train_torch, y_train_torch)\n",
    "test_dataset = TensorDataset(X_test_torch, y_test_torch)\n",
    "\n",
    "train_loader = DataLoader(train_dataset, batch_size=BATCH_SIZE, shuffle=SHUFFLE_TRAIN_DATA)\n",
    "test_loader = DataLoader(test_dataset, batch_size=BATCH_SIZE, shuffle=SHUFFLE_TEST_DATA)\n"
   ]
  },
  {
   "cell_type": "markdown",
   "metadata": {},
   "source": [
    "## Model, loss function, optimizer"
   ]
  },
  {
   "cell_type": "code",
   "execution_count": 7,
   "metadata": {},
   "outputs": [],
   "source": [
    "model = LSTMModel(INPUT_SIZE, HIDDEN_SIZE, NUM_LAYERS, OUTPUT_SIZE).to(DEVICE)\n",
    "criterion = nn.MSELoss()\n",
    "optimizer = optim.Adam(model.parameters(), lr=LEARNING_RATE)\n"
   ]
  },
  {
   "cell_type": "markdown",
   "metadata": {},
   "source": [
    "## Trainig the Model"
   ]
  },
  {
   "cell_type": "code",
   "execution_count": 15,
   "metadata": {},
   "outputs": [
    {
     "name": "stdout",
     "output_type": "stream",
     "text": [
      "Epoch [1/20], Loss: 38078458626048.0000\n",
      "Epoch [2/20], Loss: 38077900783616.0000\n",
      "Epoch [3/20], Loss: 38077363912704.0000\n",
      "Epoch [4/20], Loss: 38076839624704.0000\n",
      "Epoch [5/20], Loss: 38076311142400.0000\n",
      "Epoch [6/20], Loss: 38075786854400.0000\n",
      "Epoch [7/20], Loss: 38075262566400.0000\n",
      "Epoch [8/20], Loss: 38074738278400.0000\n",
      "Epoch [9/20], Loss: 38074213990400.0000\n",
      "Epoch [10/20], Loss: 38073689702400.0000\n",
      "Epoch [11/20], Loss: 38073165414400.0000\n",
      "Epoch [12/20], Loss: 38072632737792.0000\n",
      "Epoch [13/20], Loss: 38072108449792.0000\n",
      "Epoch [14/20], Loss: 38071584161792.0000\n",
      "Epoch [15/20], Loss: 38071059873792.0000\n",
      "Epoch [16/20], Loss: 38070535585792.0000\n",
      "Epoch [17/20], Loss: 38070011297792.0000\n",
      "Epoch [18/20], Loss: 38069487009792.0000\n",
      "Epoch [19/20], Loss: 38068962721792.0000\n",
      "Epoch [20/20], Loss: 38068438433792.0000\n"
     ]
    }
   ],
   "source": [
    "# Training the model\n",
    "for epoch in range(NUM_EPOCHS):\n",
    "    model.train()\n",
    "    optimizer.zero_grad()\n",
    "    for data, targets in train_loader:\n",
    "        data, targets = data.to(DEVICE), targets.to(DEVICE)\n",
    "        outputs = model(data)\n",
    "        loss = criterion(outputs, targets)\n",
    "        loss.backward()\n",
    "        optimizer.step()\n",
    "\n",
    "    print(f'Epoch [{epoch+1}/{NUM_EPOCHS}], Loss: {loss.item():.4f}')\n"
   ]
  }
 ],
 "metadata": {
  "kernelspec": {
   "display_name": "Python 3",
   "language": "python",
   "name": "python3"
  },
  "language_info": {
   "codemirror_mode": {
    "name": "ipython",
    "version": 3
   },
   "file_extension": ".py",
   "mimetype": "text/x-python",
   "name": "python",
   "nbconvert_exporter": "python",
   "pygments_lexer": "ipython3",
   "version": "3.9.16"
  }
 },
 "nbformat": 4,
 "nbformat_minor": 2
}
