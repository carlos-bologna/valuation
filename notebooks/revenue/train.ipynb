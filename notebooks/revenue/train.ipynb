{
 "cells": [
  {
   "cell_type": "markdown",
   "metadata": {},
   "source": [
    "# Train Revenue Prediction Model\n",
    "\n",
    "This model predic the revenue of the next quarter of all B3 listed companies.\n",
    "\n",
    "## Import Packages"
   ]
  },
  {
   "cell_type": "code",
   "execution_count": 1,
   "metadata": {},
   "outputs": [],
   "source": [
    "import os\n",
    "import numpy as np\n",
    "from datetime import datetime\n",
    "import torch\n",
    "import torch.nn as nn\n",
    "import torch.optim as optim\n",
    "from torch.utils.data import DataLoader, TensorDataset\n",
    "from torch.utils.tensorboard import SummaryWriter\n",
    "from sklearn.preprocessing import MinMaxScaler, StandardScaler\n",
    "import matplotlib.pyplot as plt"
   ]
  },
  {
   "cell_type": "markdown",
   "metadata": {},
   "source": [
    "## Constants & Settings"
   ]
  },
  {
   "cell_type": "code",
   "execution_count": 2,
   "metadata": {},
   "outputs": [],
   "source": [
    "DATA_SOURCE_FOLDER = \"/workspaces/valuation/data/staging/numpy\"\n",
    "TENSORBOARD_LOG_DIR = f\"/workspaces/valuation/data/staging/tensorboard/{datetime.now().strftime('%Y-%m-%d (%H:%Mh)')}\"\n",
    "BEST_MODEL_DESTINATION = \"/workspaces/valuation/models\"\n",
    "\n",
    "# device configuration\n",
    "DEVICE = torch.device('cuda' if torch.cuda.is_available() else 'cpu')\n",
    "\n",
    "# Initialize TensorBoard writer\n",
    "writer = SummaryWriter(log_dir=TENSORBOARD_LOG_DIR)\n",
    "\n",
    "# Create folders\n",
    "os.makedirs(BEST_MODEL_DESTINATION, exist_ok=True)"
   ]
  },
  {
   "cell_type": "markdown",
   "metadata": {},
   "source": [
    "## Read Preprocessed Data"
   ]
  },
  {
   "cell_type": "code",
   "execution_count": 3,
   "metadata": {},
   "outputs": [],
   "source": [
    "X_train = np.load(os.path.join(DATA_SOURCE_FOLDER, 'X_train.npy'))\n",
    "y_train = np.load(os.path.join(DATA_SOURCE_FOLDER, 'y_train.npy'))\n",
    "X_test = np.load(os.path.join(DATA_SOURCE_FOLDER, 'X_test.npy'))\n",
    "y_test = np.load(os.path.join(DATA_SOURCE_FOLDER, 'y_test.npy'))"
   ]
  },
  {
   "cell_type": "markdown",
   "metadata": {},
   "source": [
    "## Hiperparameter"
   ]
  },
  {
   "cell_type": "code",
   "execution_count": 4,
   "metadata": {},
   "outputs": [],
   "source": [
    "INPUT_SIZE = X_train.shape[2]\n",
    "OUTPUT_SIZE = 1\n",
    "HIDDEN_SIZE = 300\n",
    "NUM_LAYERS = 2\n",
    "LEARNING_RATE = 0.00001\n",
    "NUM_EPOCHS = 1000\n",
    "BATCH_SIZE = 64\n",
    "SHUFFLE_TRAIN_DATA = False\n",
    "SHUFFLE_TEST_DATA = False\n",
    "STOP_EARLIER_PATIENT = 10"
   ]
  },
  {
   "cell_type": "markdown",
   "metadata": {},
   "source": []
  },
  {
   "cell_type": "markdown",
   "metadata": {},
   "source": [
    "## Define the LSTM model"
   ]
  },
  {
   "cell_type": "code",
   "execution_count": 5,
   "metadata": {},
   "outputs": [],
   "source": [
    "class LSTMModel(nn.Module):\n",
    "    def __init__(self, input_size, hidden_size, num_layers, output_size):\n",
    "        super(LSTMModel, self).__init__()\n",
    "        self.lstm = nn.LSTM(input_size, hidden_size, num_layers, batch_first=True)\n",
    "        self.fc = nn.Linear(hidden_size, output_size)\n",
    "        self.num_layers = num_layers\n",
    "        self.hidden_size = hidden_size\n",
    "    \n",
    "    def forward(self, x):\n",
    "        h_0 = torch.zeros(self.num_layers, x.size(0), self.hidden_size).to(DEVICE)\n",
    "        c_0 = torch.zeros(self.num_layers, x.size(0), self.hidden_size).to(DEVICE)\n",
    "        \n",
    "        out, _ = self.lstm(x, (h_0, c_0))\n",
    "        out = self.fc(out[:, -1, :])\n",
    "        return out\n"
   ]
  },
  {
   "cell_type": "code",
   "execution_count": 6,
   "metadata": {},
   "outputs": [],
   "source": [
    "#class LSTMModel(nn.Module):\n",
    "#    def __init__(self, input_size, hidden_size, num_layers, output_size):\n",
    "#        super(LSTMModel, self).__init__()\n",
    "#        self.lstm1 = nn.LSTM(input_size, hidden_size, num_layers, batch_first=True)\n",
    "#        self.lstm2 = nn.LSTM(hidden_size, hidden_size // 2, batch_first=True)\n",
    "#        self.dropout = nn.Dropout(0.2)\n",
    "#        self.fc = nn.Linear(hidden_size // 2, output_size)\n",
    "#\n",
    "#    def forward(self, x):\n",
    "#        x, _ = self.lstm1(x)\n",
    "#        x, _ = self.lstm2(x)\n",
    "#        x = x[:, -1, :]  # Take the output of the last time step\n",
    "#        x = self.dropout(x)\n",
    "#        x = self.fc(x)\n",
    "#        return x"
   ]
  },
  {
   "cell_type": "markdown",
   "metadata": {},
   "source": [
    "## Normalize the data"
   ]
  },
  {
   "cell_type": "code",
   "execution_count": 7,
   "metadata": {},
   "outputs": [],
   "source": [
    "# Apply MinMaxScaler\n",
    "#X_scaler = MinMaxScaler(feature_range=(0,1))\n",
    "#y_scaler = MinMaxScaler(feature_range=(0,1))\n",
    "\n",
    "# Apply StandardScaler\n",
    "X_scaler = StandardScaler()\n",
    "y_scaler = StandardScaler()\n",
    "\n",
    "# Fit the scaler on the training data and transform both train and test data\n",
    "X_train_scaled = X_scaler.fit_transform(X_train.reshape(-1, X_train.shape[-1])).reshape(X_train.shape)\n",
    "y_train_scaled = y_scaler.fit_transform(y_train)\n",
    "\n",
    "X_test_scaled = X_scaler.transform(X_test.reshape(-1, X_test.shape[-1])).reshape(X_test.shape)\n",
    "y_test_scaled = y_scaler.transform(y_test)"
   ]
  },
  {
   "cell_type": "markdown",
   "metadata": {},
   "source": [
    "## Create dataset and dataloaders"
   ]
  },
  {
   "cell_type": "code",
   "execution_count": 8,
   "metadata": {},
   "outputs": [],
   "source": [
    "X_train_torch = torch.from_numpy(X_train_scaled)\n",
    "y_train_torch = torch.from_numpy(y_train_scaled)\n",
    "X_test_torch = torch.from_numpy(X_test_scaled)\n",
    "y_test_torch = torch.from_numpy(y_test_scaled)\n",
    "\n",
    "train_dataset = TensorDataset(X_train_torch, y_train_torch)\n",
    "test_dataset = TensorDataset(X_test_torch, y_test_torch)\n",
    "\n",
    "train_loader = DataLoader(train_dataset, batch_size=BATCH_SIZE, shuffle=SHUFFLE_TRAIN_DATA)\n",
    "test_loader = DataLoader(test_dataset, batch_size=BATCH_SIZE, shuffle=SHUFFLE_TEST_DATA)\n"
   ]
  },
  {
   "cell_type": "markdown",
   "metadata": {},
   "source": [
    "## Validation function"
   ]
  },
  {
   "cell_type": "code",
   "execution_count": 9,
   "metadata": {},
   "outputs": [],
   "source": [
    "def validation(model, criterion, test_loader):\n",
    "    # Testing loop\n",
    "    model.eval()\n",
    "    with torch.no_grad():\n",
    "        test_loss = 0\n",
    "        for inputs, targets in test_loader:\n",
    "            inputs, targets = inputs.to(DEVICE), targets.to(DEVICE)\n",
    "            \n",
    "            outputs = model(inputs)\n",
    "            loss = criterion(outputs, targets)\n",
    "            test_loss += loss.item()\n",
    "        \n",
    "        test_loss /= len(test_loader)\n",
    "        return test_loss"
   ]
  },
  {
   "cell_type": "markdown",
   "metadata": {},
   "source": [
    "## Prediction function"
   ]
  },
  {
   "cell_type": "code",
   "execution_count": 10,
   "metadata": {},
   "outputs": [],
   "source": [
    "def predict(model, data):\n",
    "    model.eval()\n",
    "    data = torch.tensor(data, dtype=torch.float32)\n",
    "    data = data.to(DEVICE)\n",
    "    with torch.no_grad():\n",
    "        outputs = model(data)\n",
    "    return outputs.cpu().numpy()"
   ]
  },
  {
   "cell_type": "markdown",
   "metadata": {},
   "source": [
    "## Model, loss function, optimizer"
   ]
  },
  {
   "cell_type": "code",
   "execution_count": 11,
   "metadata": {},
   "outputs": [],
   "source": [
    "model = LSTMModel(INPUT_SIZE, HIDDEN_SIZE, NUM_LAYERS, OUTPUT_SIZE).to(DEVICE)\n",
    "criterion = nn.MSELoss()\n",
    "optimizer = optim.Adam(model.parameters(), lr=LEARNING_RATE)\n"
   ]
  },
  {
   "cell_type": "markdown",
   "metadata": {},
   "source": [
    "## Trainig the Model"
   ]
  },
  {
   "cell_type": "code",
   "execution_count": 12,
   "metadata": {},
   "outputs": [],
   "source": [
    "# Initialize early stopping variables\n",
    "best_test_loss = float('inf')\n",
    "epochs_no_improve = 0\n",
    "patience = STOP_EARLIER_PATIENT  # Number of epochs to wait for improvement"
   ]
  },
  {
   "cell_type": "code",
   "execution_count": 13,
   "metadata": {},
   "outputs": [
    {
     "name": "stdout",
     "output_type": "stream",
     "text": [
      "* mark means the best model so far\n",
      "Epoch [1/1000], Avg Train Loss: 0.9880, Avg Test Loss: 1.9706 *\n",
      "Epoch [2/1000], Avg Train Loss: 0.9493, Avg Test Loss: 1.8707 *\n",
      "Epoch [3/1000], Avg Train Loss: 0.8706, Avg Test Loss: 1.6219 *\n",
      "Epoch [4/1000], Avg Train Loss: 0.7111, Avg Test Loss: 1.3078 *\n",
      "Epoch [5/1000], Avg Train Loss: 0.5845, Avg Test Loss: 1.1716 *\n",
      "Epoch [6/1000], Avg Train Loss: 0.5530, Avg Test Loss: 1.1284 *\n",
      "Epoch [7/1000], Avg Train Loss: 0.5364, Avg Test Loss: 1.1043 *\n",
      "Epoch [8/1000], Avg Train Loss: 0.5242, Avg Test Loss: 1.0708 *\n",
      "Epoch [9/1000], Avg Train Loss: 0.5094, Avg Test Loss: 1.0597 *\n",
      "Epoch [10/1000], Avg Train Loss: 0.5012, Avg Test Loss: 1.0169 *\n",
      "Epoch [11/1000], Avg Train Loss: 0.4823, Avg Test Loss: 1.0393 \n",
      "Epoch [12/1000], Avg Train Loss: 0.4821, Avg Test Loss: 0.9453 *\n",
      "Epoch [13/1000], Avg Train Loss: 0.4587, Avg Test Loss: 1.1726 \n",
      "Epoch [14/1000], Avg Train Loss: 0.5168, Avg Test Loss: 0.9321 *\n",
      "Epoch [15/1000], Avg Train Loss: 0.5041, Avg Test Loss: 1.0747 \n",
      "Epoch [16/1000], Avg Train Loss: 0.4582, Avg Test Loss: 0.9161 *\n",
      "Epoch [17/1000], Avg Train Loss: 0.4116, Avg Test Loss: 0.9018 *\n",
      "Epoch [18/1000], Avg Train Loss: 0.3928, Avg Test Loss: 0.8652 *\n",
      "Epoch [19/1000], Avg Train Loss: 0.3718, Avg Test Loss: 0.8286 *\n",
      "Epoch [20/1000], Avg Train Loss: 0.3506, Avg Test Loss: 0.7813 *\n",
      "Epoch [21/1000], Avg Train Loss: 0.3260, Avg Test Loss: 0.7472 *\n",
      "Epoch [22/1000], Avg Train Loss: 0.3038, Avg Test Loss: 0.6791 *\n",
      "Epoch [23/1000], Avg Train Loss: 0.2881, Avg Test Loss: 0.7781 \n",
      "Epoch [24/1000], Avg Train Loss: 0.3424, Avg Test Loss: 0.6824 \n",
      "Epoch [25/1000], Avg Train Loss: 0.3947, Avg Test Loss: 0.8353 \n",
      "Epoch [26/1000], Avg Train Loss: 0.3373, Avg Test Loss: 0.6937 \n",
      "Epoch [27/1000], Avg Train Loss: 0.2886, Avg Test Loss: 0.7179 \n",
      "Epoch [28/1000], Avg Train Loss: 0.2849, Avg Test Loss: 0.5927 *\n",
      "Epoch [29/1000], Avg Train Loss: 0.2389, Avg Test Loss: 0.5907 *\n",
      "Epoch [30/1000], Avg Train Loss: 0.2373, Avg Test Loss: 0.5618 *\n",
      "Epoch [31/1000], Avg Train Loss: 0.2213, Avg Test Loss: 0.5643 \n",
      "Epoch [32/1000], Avg Train Loss: 0.2303, Avg Test Loss: 0.5605 *\n",
      "Epoch [33/1000], Avg Train Loss: 0.2229, Avg Test Loss: 0.5772 \n",
      "Epoch [34/1000], Avg Train Loss: 0.2384, Avg Test Loss: 0.5505 *\n",
      "Epoch [35/1000], Avg Train Loss: 0.2172, Avg Test Loss: 0.5502 *\n",
      "Epoch [36/1000], Avg Train Loss: 0.2240, Avg Test Loss: 0.5049 *\n",
      "Epoch [37/1000], Avg Train Loss: 0.1942, Avg Test Loss: 0.4934 *\n",
      "Epoch [38/1000], Avg Train Loss: 0.1988, Avg Test Loss: 0.4777 *\n",
      "Epoch [39/1000], Avg Train Loss: 0.1794, Avg Test Loss: 0.4676 *\n",
      "Epoch [40/1000], Avg Train Loss: 0.1897, Avg Test Loss: 0.4690 \n",
      "Epoch [41/1000], Avg Train Loss: 0.1741, Avg Test Loss: 0.4637 *\n",
      "Epoch [42/1000], Avg Train Loss: 0.1901, Avg Test Loss: 0.4633 *\n",
      "Epoch [43/1000], Avg Train Loss: 0.1704, Avg Test Loss: 0.4574 *\n",
      "Epoch [44/1000], Avg Train Loss: 0.1876, Avg Test Loss: 0.4452 *\n",
      "Epoch [45/1000], Avg Train Loss: 0.1615, Avg Test Loss: 0.4343 *\n",
      "Epoch [46/1000], Avg Train Loss: 0.1766, Avg Test Loss: 0.4233 *\n",
      "Epoch [47/1000], Avg Train Loss: 0.1512, Avg Test Loss: 0.4107 *\n",
      "Epoch [48/1000], Avg Train Loss: 0.1660, Avg Test Loss: 0.4074 *\n",
      "Epoch [49/1000], Avg Train Loss: 0.1438, Avg Test Loss: 0.3957 *\n",
      "Epoch [50/1000], Avg Train Loss: 0.1601, Avg Test Loss: 0.3973 \n",
      "Epoch [51/1000], Avg Train Loss: 0.1388, Avg Test Loss: 0.3865 *\n",
      "Epoch [52/1000], Avg Train Loss: 0.1568, Avg Test Loss: 0.3878 \n",
      "Epoch [53/1000], Avg Train Loss: 0.1341, Avg Test Loss: 0.3764 *\n",
      "Epoch [54/1000], Avg Train Loss: 0.1531, Avg Test Loss: 0.3764 \n",
      "Epoch [55/1000], Avg Train Loss: 0.1289, Avg Test Loss: 0.3633 *\n",
      "Epoch [56/1000], Avg Train Loss: 0.1474, Avg Test Loss: 0.3622 *\n",
      "Epoch [57/1000], Avg Train Loss: 0.1232, Avg Test Loss: 0.3480 *\n",
      "Epoch [58/1000], Avg Train Loss: 0.1405, Avg Test Loss: 0.3478 *\n",
      "Epoch [59/1000], Avg Train Loss: 0.1180, Avg Test Loss: 0.3347 *\n",
      "Epoch [60/1000], Avg Train Loss: 0.1340, Avg Test Loss: 0.3349 \n",
      "Epoch [61/1000], Avg Train Loss: 0.1139, Avg Test Loss: 0.3245 *\n",
      "Epoch [62/1000], Avg Train Loss: 0.1293, Avg Test Loss: 0.3247 \n",
      "Epoch [63/1000], Avg Train Loss: 0.1111, Avg Test Loss: 0.3172 *\n",
      "Epoch [64/1000], Avg Train Loss: 0.1261, Avg Test Loss: 0.3160 *\n",
      "Epoch [65/1000], Avg Train Loss: 0.1083, Avg Test Loss: 0.3095 *\n",
      "Epoch [66/1000], Avg Train Loss: 0.1227, Avg Test Loss: 0.3061 *\n",
      "Epoch [67/1000], Avg Train Loss: 0.1048, Avg Test Loss: 0.2992 *\n",
      "Epoch [68/1000], Avg Train Loss: 0.1188, Avg Test Loss: 0.2961 *\n",
      "Epoch [69/1000], Avg Train Loss: 0.1017, Avg Test Loss: 0.2916 *\n",
      "Epoch [70/1000], Avg Train Loss: 0.1166, Avg Test Loss: 0.2899 *\n",
      "Epoch [71/1000], Avg Train Loss: 0.1006, Avg Test Loss: 0.2919 \n",
      "Epoch [72/1000], Avg Train Loss: 0.1164, Avg Test Loss: 0.2834 *\n",
      "Epoch [73/1000], Avg Train Loss: 0.0995, Avg Test Loss: 0.2870 \n",
      "Epoch [74/1000], Avg Train Loss: 0.1118, Avg Test Loss: 0.2632 *\n",
      "Epoch [75/1000], Avg Train Loss: 0.0940, Avg Test Loss: 0.2644 \n",
      "Epoch [76/1000], Avg Train Loss: 0.0995, Avg Test Loss: 0.2410 *\n",
      "Epoch [77/1000], Avg Train Loss: 0.0884, Avg Test Loss: 0.2508 \n",
      "Epoch [78/1000], Avg Train Loss: 0.0938, Avg Test Loss: 0.2370 *\n",
      "Epoch [79/1000], Avg Train Loss: 0.0896, Avg Test Loss: 0.2564 \n",
      "Epoch [80/1000], Avg Train Loss: 0.0997, Avg Test Loss: 0.2520 \n",
      "Epoch [81/1000], Avg Train Loss: 0.0939, Avg Test Loss: 0.2726 \n",
      "Epoch [82/1000], Avg Train Loss: 0.1047, Avg Test Loss: 0.2474 \n",
      "Epoch [83/1000], Avg Train Loss: 0.0887, Avg Test Loss: 0.2552 \n",
      "Epoch [84/1000], Avg Train Loss: 0.0975, Avg Test Loss: 0.2400 \n",
      "Epoch [85/1000], Avg Train Loss: 0.0915, Avg Test Loss: 0.2923 \n",
      "Epoch [86/1000], Avg Train Loss: 0.1146, Avg Test Loss: 0.3186 \n",
      "Epoch [87/1000], Avg Train Loss: 0.1278, Avg Test Loss: 0.5742 \n",
      "Epoch [88/1000], Avg Train Loss: 0.1965, Avg Test Loss: 0.2257 *\n",
      "Epoch [89/1000], Avg Train Loss: 0.0880, Avg Test Loss: 0.2190 *\n",
      "Epoch [90/1000], Avg Train Loss: 0.0776, Avg Test Loss: 0.1881 *\n",
      "Epoch [91/1000], Avg Train Loss: 0.0723, Avg Test Loss: 0.2007 \n",
      "Epoch [92/1000], Avg Train Loss: 0.0731, Avg Test Loss: 0.1907 \n",
      "Epoch [93/1000], Avg Train Loss: 0.0732, Avg Test Loss: 0.2125 \n",
      "Epoch [94/1000], Avg Train Loss: 0.0788, Avg Test Loss: 0.2082 \n",
      "Epoch [95/1000], Avg Train Loss: 0.0807, Avg Test Loss: 0.2460 \n",
      "Epoch [96/1000], Avg Train Loss: 0.0891, Avg Test Loss: 0.2156 \n",
      "Epoch [97/1000], Avg Train Loss: 0.0806, Avg Test Loss: 0.2397 \n",
      "Epoch [98/1000], Avg Train Loss: 0.0842, Avg Test Loss: 0.1895 \n",
      "Epoch [99/1000], Avg Train Loss: 0.0766, Avg Test Loss: 0.2218 \n",
      "Epoch [100/1000], Avg Train Loss: 0.0801, Avg Test Loss: 0.1923 \n",
      "Early stopping triggered\n"
     ]
    }
   ],
   "source": [
    "# Training the model\n",
    "\n",
    "print(\"* mark means the best model so far\")\n",
    "\n",
    "for epoch in range(NUM_EPOCHS):\n",
    "    \n",
    "    model.train()\n",
    "    optimizer.zero_grad()\n",
    "    avg_loss = 0\n",
    "\n",
    "    for data, targets in train_loader:\n",
    "        data, targets = data.to(DEVICE), targets.to(DEVICE)\n",
    "        outputs = model(data)\n",
    "        loss = criterion(outputs, targets)\n",
    "        loss.backward()\n",
    "        optimizer.step()\n",
    "\n",
    "        avg_loss += loss.item() / len(train_loader)\n",
    "\n",
    "    avg_test_loss = validation(model, criterion, test_loader)\n",
    "\n",
    "    # Log the losses to TensorBoard\n",
    "    writer.add_scalar('Loss/Train', avg_loss, epoch)\n",
    "    writer.add_scalar('Loss/Test', avg_test_loss, epoch)\n",
    "\n",
    "    # Check for early stopping\n",
    "    if avg_test_loss < best_test_loss:\n",
    "        best_test_loss = avg_test_loss\n",
    "        epochs_no_improve = 0\n",
    "\n",
    "        # Save the best model\n",
    "        torch.save(model.state_dict(), os.path.join(BEST_MODEL_DESTINATION, \"best_model.pth\"))\n",
    "        \n",
    "    else:\n",
    "        epochs_no_improve += 1\n",
    "\n",
    "    # Best model mark\n",
    "    best_model_mark = \"*\" if epochs_no_improve==0 else \"\"\n",
    "\n",
    "    print(f'Epoch [{epoch+1}/{NUM_EPOCHS}], Avg Train Loss: {avg_loss:.4f}, Avg Test Loss: {avg_test_loss:.4f} {best_model_mark}')\n",
    "    \n",
    "    if epochs_no_improve >= patience:\n",
    "        print(\"Early stopping triggered\")\n",
    "        break\n"
   ]
  },
  {
   "cell_type": "markdown",
   "metadata": {},
   "source": [
    "## Prediction"
   ]
  },
  {
   "cell_type": "code",
   "execution_count": 34,
   "metadata": {},
   "outputs": [],
   "source": [
    "# Load the best model\n",
    "best_model = LSTMModel(INPUT_SIZE, HIDDEN_SIZE, NUM_LAYERS, OUTPUT_SIZE).to(DEVICE)\n",
    "best_model.load_state_dict(torch.load(os.path.join(BEST_MODEL_DESTINATION, \"best_model.pth\")))\n",
    "\n",
    "# Predict\n",
    "predictions = predict(best_model, X_test)\n",
    "predictions = y_scaler.inverse_transform(predictions)\n",
    "actuals = y_test"
   ]
  },
  {
   "cell_type": "markdown",
   "metadata": {},
   "source": [
    "## Sample"
   ]
  },
  {
   "cell_type": "code",
   "execution_count": 35,
   "metadata": {},
   "outputs": [],
   "source": [
    "predictions = predictions[0:100]\n",
    "actuals = actuals[0:100]"
   ]
  },
  {
   "cell_type": "code",
   "execution_count": 36,
   "metadata": {},
   "outputs": [
    {
     "data": {
      "image/png": "[encoded data removed]",
      "text/plain": [
       "<Figure size 1000x600 with 1 Axes>"
      ]
     },
     "metadata": {},
     "output_type": "display_data"
    }
   ],
   "source": [
    "# Calculate the differences\n",
    "differences = predictions - actuals\n",
    "\n",
    "# Create the plot\n",
    "plt.figure(figsize=(10, 6))\n",
    "\n",
    "# Plot actual and predicted values\n",
    "plt.plot(actuals, label='Actual Values')\n",
    "plt.plot(predictions, label='Predicted Values')\n",
    "\n",
    "# Plot differences\n",
    "#for i in range(len(predictions)):\n",
    "#    plt.plot([i, i], [predictions[i], actuals[i]], color='red', linestyle='--')\n",
    "\n",
    "# Add labels and title\n",
    "plt.xlabel('Index')\n",
    "plt.ylabel('Value')\n",
    "plt.title('Predictions vs Actual Values')\n",
    "plt.legend()\n",
    "plt.grid(True)\n",
    "\n",
    "# Show the plot\n",
    "plt.show()"
   ]
  },
  {
   "cell_type": "code",
   "execution_count": null,
   "metadata": {},
   "outputs": [],
   "source": []
  }
 ],
 "metadata": {
  "kernelspec": {
   "display_name": "Python 3",
   "language": "python",
   "name": "python3"
  },
  "language_info": {
   "codemirror_mode": {
    "name": "ipython",
    "version": 3
   },
   "file_extension": ".py",
   "mimetype": "text/x-python",
   "name": "python",
   "nbconvert_exporter": "python",
   "pygments_lexer": "ipython3",
   "version": "3.9.16"
  }
 },
 "nbformat": 4,
 "nbformat_minor": 2
}
