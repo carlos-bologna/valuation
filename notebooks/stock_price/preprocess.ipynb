{
 "cells": [
  {
   "cell_type": "markdown",
   "metadata": {},
   "source": [
    "## Import Packages"
   ]
  },
  {
   "cell_type": "code",
   "execution_count": 1,
   "metadata": {},
   "outputs": [],
   "source": [
    "import os\n",
    "import shutil\n",
    "import duckdb\n",
    "import yaml\n",
    "from sklearn.model_selection import train_test_split"
   ]
  },
  {
   "cell_type": "markdown",
   "metadata": {},
   "source": [
    "## Set Parameters"
   ]
  },
  {
   "cell_type": "code",
   "execution_count": 2,
   "metadata": {},
   "outputs": [],
   "source": [
    "CONFIG_FILE = \"/workspaces/valuation/config.yaml\"\n",
    "DATA_SOURCE_FOLDER = \"/workspaces/valuation/data\"\n",
    "DATA_SOURCE_FILENAME = \"stock_prices.duckdb\"\n",
    "DATA_SOURCE_TABLE = \"gold_stock_price_labeled\"\n",
    "\n",
    "# Load config file\n",
    "with open(CONFIG_FILE, 'r') as config_file:\n",
    "    config = yaml.safe_load(config_file)\n",
    "\n",
    "SEED = config['seed']\n",
    "TICKER = config['ticker']\n",
    "TEST_SIZE = config['test_size_in_days'] # Number of days in the tail.\n",
    "\n",
    "DATA_DESTINATION_FOLDER = os.path.join(\"/workspaces/valuation/data/staging/stocks\", TICKER)\n"
   ]
  },
  {
   "cell_type": "markdown",
   "metadata": {},
   "source": [
    "## Read Data Source"
   ]
  },
  {
   "cell_type": "code",
   "execution_count": 3,
   "metadata": {},
   "outputs": [],
   "source": [
    "\n",
    "db_path = os.path.join(DATA_SOURCE_FOLDER, DATA_SOURCE_FILENAME)\n",
    "\n",
    "# Create or connect to the DuckDB database\n",
    "conn = duckdb.connect(database=db_path, read_only=False)\n",
    "\n",
    "# Read data\n",
    "df = conn.sql(f\"SELECT * FROM {DATA_SOURCE_TABLE} WHERE Ticker = '{TICKER}'\").fetchdf()\n",
    "\n",
    "# Close the DuckDB connection\n",
    "conn.close()"
   ]
  },
  {
   "cell_type": "markdown",
   "metadata": {},
   "source": [
    "## Remove Nulls"
   ]
  },
  {
   "cell_type": "code",
   "execution_count": 4,
   "metadata": {},
   "outputs": [],
   "source": [
    "df.dropna(inplace=True)"
   ]
  },
  {
   "cell_type": "markdown",
   "metadata": {},
   "source": [
    "## Split the data into Train and Test"
   ]
  },
  {
   "cell_type": "code",
   "execution_count": 5,
   "metadata": {},
   "outputs": [],
   "source": [
    "# Sorting the dataframe by the date column 'ds'\n",
    "df_sorted = df.sort_values(by='ds')\n",
    "\n",
    "# Split the dataframe\n",
    "train_df = df_sorted.iloc[:-TEST_SIZE]\n",
    "test_df = df_sorted.iloc[-TEST_SIZE:]\n",
    "\n"
   ]
  },
  {
   "cell_type": "markdown",
   "metadata": {},
   "source": [
    "## Save Pandas dataframe to disk"
   ]
  },
  {
   "cell_type": "code",
   "execution_count": 6,
   "metadata": {},
   "outputs": [
    {
     "name": "stdout",
     "output_type": "stream",
     "text": [
      "Train data saved to /workspaces/valuation/data/staging/stocks/VALE3.SA/train.csv' shaped as (2108, 9)\n",
      "Test data saved to /workspaces/valuation/data/staging/stocks/VALE3.SA/test.csv shaped as (60, 9)\n"
     ]
    }
   ],
   "source": [
    "# Create the destination folder if it doesn't exist\n",
    "if not os.path.exists(DATA_DESTINATION_FOLDER):\n",
    "    os.makedirs(DATA_DESTINATION_FOLDER)\n",
    "\n",
    "else:\n",
    "    # Remove existing train.csv and test.csv files if they exist\n",
    "    train_file = os.path.join(DATA_DESTINATION_FOLDER, 'train.csv')\n",
    "    test_file = os.path.join(DATA_DESTINATION_FOLDER, 'test.csv')\n",
    "\n",
    "    if os.path.exists(train_file):\n",
    "        os.remove(train_file)\n",
    "    if os.path.exists(test_file):\n",
    "        os.remove(test_file)\n",
    "   \n",
    "# Saving the train and test dataframes to CSV files\n",
    "train_df.to_csv(train_file, index=False)\n",
    "test_df.to_csv(test_file, index=False)\n",
    "\n",
    "print(f\"Train data saved to {DATA_DESTINATION_FOLDER}/train.csv' shaped as {train_df.shape}\")\n",
    "print(f\"Test data saved to {DATA_DESTINATION_FOLDER}/test.csv shaped as {test_df.shape}\")\n"
   ]
  }
 ],
 "metadata": {
  "kernelspec": {
   "display_name": "Python 3",
   "language": "python",
   "name": "python3"
  },
  "language_info": {
   "codemirror_mode": {
    "name": "ipython",
    "version": 3
   },
   "file_extension": ".py",
   "mimetype": "text/x-python",
   "name": "python",
   "nbconvert_exporter": "python",
   "pygments_lexer": "ipython3",
   "version": "3.9.16"
  }
 },
 "nbformat": 4,
 "nbformat_minor": 2
}
