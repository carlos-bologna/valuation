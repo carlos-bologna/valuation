{
 "cells": [
  {
   "cell_type": "markdown",
   "metadata": {},
   "source": [
    "## Import Packages"
   ]
  },
  {
   "cell_type": "code",
   "execution_count": 7,
   "metadata": {},
   "outputs": [],
   "source": [
    "import os\n",
    "import shutil\n",
    "import duckdb\n",
    "from sklearn.model_selection import train_test_split"
   ]
  },
  {
   "cell_type": "markdown",
   "metadata": {},
   "source": [
    "## Set Parameters"
   ]
  },
  {
   "cell_type": "code",
   "execution_count": 8,
   "metadata": {},
   "outputs": [],
   "source": [
    "DATA_SOURCE_FOLDER = \"/workspaces/valuation/data\"\n",
    "DATA_SOURCE_FILENAME = \"stock_prices.duckdb\"\n",
    "DATA_SOURCE_TABLE = \"gold_stock_price_labeled\"\n",
    "\n",
    "DATA_DESTINATION_FOLDER = \"/workspaces/valuation/data/staging/stock_price_labeled\"\n",
    "\n",
    "TEST_SIZE = 0.00001\n",
    "\n",
    "SEED = 1407\n",
    "\n",
    "TICKER = \"VALE5.SA\""
   ]
  },
  {
   "cell_type": "markdown",
   "metadata": {},
   "source": [
    "## Read Data Source"
   ]
  },
  {
   "cell_type": "code",
   "execution_count": 9,
   "metadata": {},
   "outputs": [],
   "source": [
    "\n",
    "db_path = os.path.join(DATA_SOURCE_FOLDER, DATA_SOURCE_FILENAME)\n",
    "\n",
    "# Create or connect to the DuckDB database\n",
    "conn = duckdb.connect(database=db_path, read_only=False)\n",
    "\n",
    "# Read data\n",
    "df = conn.sql(f\"SELECT * FROM {DATA_SOURCE_TABLE} WHERE Ticker = '{TICKER}'\").fetchdf()\n",
    "\n",
    "# Close the DuckDB connection\n",
    "conn.close()"
   ]
  },
  {
   "cell_type": "code",
   "execution_count": 15,
   "metadata": {},
   "outputs": [
    {
     "data": {
      "text/plain": [
       "765"
      ]
     },
     "execution_count": 15,
     "metadata": {},
     "output_type": "execute_result"
    }
   ],
   "source": [
    "len(df)"
   ]
  },
  {
   "cell_type": "markdown",
   "metadata": {},
   "source": [
    "## Split the data into Train and Test"
   ]
  },
  {
   "cell_type": "code",
   "execution_count": 10,
   "metadata": {},
   "outputs": [],
   "source": [
    "# Sorting the dataframe by the date column 'ds'\n",
    "df_sorted = df.sort_values(by='ds')\n",
    "\n",
    "# Splitting the sorted dataframe into train and test sets\n",
    "train_df, test_df = train_test_split(df_sorted, test_size=TEST_SIZE, random_state=SEED, shuffle=False)\n"
   ]
  },
  {
   "cell_type": "code",
   "execution_count": 14,
   "metadata": {},
   "outputs": [
    {
     "data": {
      "text/plain": [
       "764"
      ]
     },
     "execution_count": 14,
     "metadata": {},
     "output_type": "execute_result"
    }
   ],
   "source": [
    "len(train_df)"
   ]
  },
  {
   "cell_type": "markdown",
   "metadata": {},
   "source": [
    "## Save Pandas dataframe to disk"
   ]
  },
  {
   "cell_type": "code",
   "execution_count": 12,
   "metadata": {},
   "outputs": [
    {
     "name": "stdout",
     "output_type": "stream",
     "text": [
      "Train data saved to /workspaces/valuation/data/staging/stock_price_labeled/train.csv'\n",
      "Test data saved to /workspaces/valuation/data/staging/stock_price_labeled/test.csv\n"
     ]
    }
   ],
   "source": [
    "# Clear the destination folder\n",
    "if os.path.exists(DATA_DESTINATION_FOLDER):\n",
    "    shutil.rmtree(DATA_DESTINATION_FOLDER)\n",
    "\n",
    "os.makedirs(DATA_DESTINATION_FOLDER)\n",
    "    \n",
    "# Saving the train and test dataframes to CSV files\n",
    "train_df.to_csv(os.path.join(DATA_DESTINATION_FOLDER, 'train.csv'), index=False)\n",
    "test_df.to_csv(os.path.join(DATA_DESTINATION_FOLDER, 'test.csv'), index=False)\n",
    "\n",
    "print(f\"Train data saved to {DATA_DESTINATION_FOLDER}/train.csv'\")\n",
    "print(f\"Test data saved to {DATA_DESTINATION_FOLDER}/test.csv\")\n"
   ]
  }
 ],
 "metadata": {
  "kernelspec": {
   "display_name": "Python 3",
   "language": "python",
   "name": "python3"
  },
  "language_info": {
   "codemirror_mode": {
    "name": "ipython",
    "version": 3
   },
   "file_extension": ".py",
   "mimetype": "text/x-python",
   "name": "python",
   "nbconvert_exporter": "python",
   "pygments_lexer": "ipython3",
   "version": "3.9.16"
  }
 },
 "nbformat": 4,
 "nbformat_minor": 2
}
