{
 "cells": [
  {
   "cell_type": "markdown",
   "metadata": {},
   "source": [
    "## Import Packages"
   ]
  },
  {
   "cell_type": "code",
   "execution_count": 25,
   "metadata": {},
   "outputs": [],
   "source": [
    "import os\n",
    "import duckdb\n",
    "import numpy as np\n",
    "from sklearn.model_selection import TimeSeriesSplit"
   ]
  },
  {
   "cell_type": "markdown",
   "metadata": {},
   "source": [
    "## Set Parameters"
   ]
  },
  {
   "cell_type": "code",
   "execution_count": 13,
   "metadata": {},
   "outputs": [],
   "source": [
    "DATA_SOURCE_FOLDER = \"/workspaces/valuation/data\"\n",
    "OUTPUT_FILENAME = \"dfp.duckdb\"\n",
    "SOURCE_TABLE = \"gold_dfp_dre_pivoted\"\n",
    "\n",
    "# How many periods to look back (rows in the past).\n",
    "TIME_STEPS = 3\n",
    "\n",
    "# Train and test proportion\n",
    "TRAIN_SIZE = 0,8"
   ]
  },
  {
   "cell_type": "markdown",
   "metadata": {},
   "source": [
    "## Read Data Source"
   ]
  },
  {
   "cell_type": "code",
   "execution_count": 14,
   "metadata": {},
   "outputs": [],
   "source": [
    "\n",
    "db_path = os.path.join(DATA_SOURCE_FOLDER, OUTPUT_FILENAME)\n",
    "\n",
    "# Create or connect to the DuckDB database\n",
    "conn = duckdb.connect(database=db_path, read_only=False)\n",
    "\n",
    "# Read data\n",
    "df = conn.sql(f\"SELECT * FROM {SOURCE_TABLE}\").fetchdf()\n",
    "\n",
    "# Close the DuckDB connection\n",
    "conn.close()"
   ]
  },
  {
   "cell_type": "markdown",
   "metadata": {},
   "source": [
    "## Feature Engineering"
   ]
  },
  {
   "cell_type": "code",
   "execution_count": 15,
   "metadata": {},
   "outputs": [],
   "source": [
    "df[\"DIA_REFER\"] = df[\"DT_REFER\"].dt.day\n",
    "df[\"MES_REFER\"] = df[\"DT_REFER\"].dt.month   \n",
    "df[\"ANO_REFER\"] = df[\"DT_REFER\"].dt.year\n",
    "\n",
    "# List of parameter, target must be the first one.\n",
    "FEATURE_NAMES = ['RECEITA', 'EBIT', 'LAIR', 'PERIODO_MESES', 'DIA_REFER', 'MES_REFER', 'ANO_REFER']"
   ]
  },
  {
   "cell_type": "markdown",
   "metadata": {},
   "source": [
    "## Create the time steps (lookback)"
   ]
  },
  {
   "cell_type": "code",
   "execution_count": 16,
   "metadata": {},
   "outputs": [],
   "source": [
    "# Sort by date if necessary\n",
    "df.sort_values(by=['CD_CVM', 'DT_REFER'], inplace=True)\n",
    "\n",
    "# Create sequences for each CD_CVM group\n",
    "grouped = df.groupby('CD_CVM')\n",
    "X_list, y_list = [], []\n",
    "\n",
    "for name, group in grouped:\n",
    "        \n",
    "    # Select the necessary columns\n",
    "    data = group[FEATURE_NAMES].values\n",
    "        \n",
    "    # Create the sequences\n",
    "    for i in range(TIME_STEPS, len(data)):\n",
    "        X_list.append(data[i-TIME_STEPS:i])\n",
    "        y_list.append(data[i, 0])\n",
    "\n",
    "# Convert lists to numpy arrays\n",
    "X, y = np.array(X_list), np.array(y_list)"
   ]
  },
  {
   "cell_type": "markdown",
   "metadata": {},
   "source": [
    "## Shate the data for LSTM\n",
    "\n",
    "The shape must be:\n",
    "(samples, time steps, features)"
   ]
  },
  {
   "cell_type": "code",
   "execution_count": 22,
   "metadata": {},
   "outputs": [],
   "source": [
    "# Reshape the data to fit the LSTM model (samples, time steps, features)\n",
    "#X = np.reshape(X, (X.shape[0], X.shape[1], X.shape[2]))"
   ]
  }
 ],
 "metadata": {
  "kernelspec": {
   "display_name": "Python 3",
   "language": "python",
   "name": "python3"
  },
  "language_info": {
   "codemirror_mode": {
    "name": "ipython",
    "version": 3
   },
   "file_extension": ".py",
   "mimetype": "text/x-python",
   "name": "python",
   "nbconvert_exporter": "python",
   "pygments_lexer": "ipython3",
   "version": "3.9.16"
  }
 },
 "nbformat": 4,
 "nbformat_minor": 2
}
